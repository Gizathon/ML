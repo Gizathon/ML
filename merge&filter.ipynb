{
 "cells": [
  {
   "cell_type": "code",
   "execution_count": 2,
   "metadata": {},
   "outputs": [],
   "source": [
    "import pandas as pd\n",
    "import os"
   ]
  },
  {
   "cell_type": "code",
   "execution_count": 1,
   "metadata": {},
   "outputs": [
    {
     "ename": "NameError",
     "evalue": "name 'os' is not defined",
     "output_type": "error",
     "traceback": [
      "\u001b[1;31m---------------------------------------------------------------------------\u001b[0m",
      "\u001b[1;31mNameError\u001b[0m                                 Traceback (most recent call last)",
      "Cell \u001b[1;32mIn[1], line 5\u001b[0m\n\u001b[0;32m      2\u001b[0m folder_path \u001b[38;5;241m=\u001b[39m \u001b[38;5;124m\"\u001b[39m\u001b[38;5;124msmallSplit Result\u001b[39m\u001b[38;5;124m\"\u001b[39m\n\u001b[0;32m      4\u001b[0m \u001b[38;5;66;03m# Read the first file and capture column names\u001b[39;00m\n\u001b[1;32m----> 5\u001b[0m first_file \u001b[38;5;241m=\u001b[39m \u001b[43mos\u001b[49m\u001b[38;5;241m.\u001b[39mpath\u001b[38;5;241m.\u001b[39mjoin(folder_path, \u001b[38;5;124m\"\u001b[39m\u001b[38;5;124mresult0.csv\u001b[39m\u001b[38;5;124m\"\u001b[39m)\n\u001b[0;32m      6\u001b[0m df \u001b[38;5;241m=\u001b[39m pd\u001b[38;5;241m.\u001b[39mread_csv(first_file)\n\u001b[0;32m      7\u001b[0m column_names \u001b[38;5;241m=\u001b[39m df\u001b[38;5;241m.\u001b[39mcolumns\u001b[38;5;241m.\u001b[39mtolist()  \u001b[38;5;66;03m# Extract column names as a list\u001b[39;00m\n",
      "\u001b[1;31mNameError\u001b[0m: name 'os' is not defined"
     ]
    }
   ],
   "source": [
    "\n",
    "\n",
    "# Define the folder path containing CSV files\n",
    "folder_path = \"smallSplit Result\"\n",
    "\n",
    "# Read the first file and capture column names\n",
    "first_file = os.path.join(folder_path, \"result0.csv\")\n",
    "df = pd.read_csv(first_file)\n",
    "column_names = df.columns.tolist()  # Extract column names as a list\n",
    "\n",
    "# Create an empty list to store DataFrames\n",
    "all_dataframes = []\n",
    "\n",
    "# Loop through all files in the folder\n",
    "for filename in os.listdir(folder_path):\n",
    "  filepath = os.path.join(folder_path, filename)\n",
    "  \n",
    "  # Skip processing the first file again\n",
    "  if filename == \"result0.csv\":\n",
    "    all_dataframes.append(df)\n",
    "\n",
    "  # Read subsequent files without header row\n",
    "  df = pd.read_csv(filepath, header=None, names=column_names)\n",
    "  all_dataframes.append(df)\n",
    "\n",
    "# Concatenate all DataFrames in the list\n",
    "merged_df = pd.concat(all_dataframes, ignore_index=True)\n",
    "\n",
    "# Print or save the merged DataFrame\n",
    "print(merged_df)\n",
    "\n",
    "# You can also save the merged DataFrame to a new CSV file\n",
    "merged_df.to_csv(\"merged_data.csv\", index=False)\n"
   ]
  },
  {
   "cell_type": "code",
   "execution_count": 3,
   "metadata": {},
   "outputs": [
    {
     "name": "stdout",
     "output_type": "stream",
     "text": [
      "<class 'pandas.core.frame.DataFrame'>\n",
      "RangeIndex: 33644 entries, 0 to 33643\n",
      "Data columns (total 58 columns):\n",
      " #   Column                      Non-Null Count  Dtype \n",
      "---  ------                      --------------  ----- \n",
      " 0   createdAtBlockNumber        33644 non-null  object\n",
      " 1   createdAtTimestamp          33644 non-null  object\n",
      " 2   id                          33644 non-null  object\n",
      " 3   reserve0                    33644 non-null  object\n",
      " 4   reserve1                    33644 non-null  object\n",
      " 5   reserveETH                  33644 non-null  object\n",
      " 6   reserveUSD                  33644 non-null  object\n",
      " 7   totalSupply                 33644 non-null  object\n",
      " 8   txCount                     33644 non-null  object\n",
      " 9   reserve00                   33644 non-null  object\n",
      " 10  reserve11                   33644 non-null  object\n",
      " 11  token0.id                   33644 non-null  object\n",
      " 12  token0.name                 33635 non-null  object\n",
      " 13  token0.symbol               33635 non-null  object\n",
      " 14  token0.totalLiquidity       33644 non-null  object\n",
      " 15  token0.txCount              33644 non-null  object\n",
      " 16  token1.id                   33644 non-null  object\n",
      " 17  token1.name                 33642 non-null  object\n",
      " 18  token1.symbol               33642 non-null  object\n",
      " 19  token1.totalLiquidity       33644 non-null  object\n",
      " 20  token1.txCount              33644 non-null  object\n",
      " 21  token00.id                  33644 non-null  object\n",
      " 22  token00.name                33633 non-null  object\n",
      " 23  token00.symbol              33633 non-null  object\n",
      " 24  token00.totalLiquidity      33644 non-null  object\n",
      " 25  token00.txCount             33644 non-null  object\n",
      " 26  token11.id                  33644 non-null  object\n",
      " 27  token11.name                33644 non-null  object\n",
      " 28  token11.symbol              33644 non-null  object\n",
      " 29  token11.totalLiquidity      33644 non-null  object\n",
      " 30  token11.txCount             33644 non-null  object\n",
      " 31  initial_Liquidity_Eth       33644 non-null  object\n",
      " 32  initial_Liquidity_Token     33644 non-null  object\n",
      " 33  last_transaction_timestamp  33644 non-null  object\n",
      " 34  last_transaction_date       33644 non-null  object\n",
      " 35  mint_count                  33644 non-null  object\n",
      " 36  swap_count                  33644 non-null  object\n",
      " 37  burn_count                  33644 non-null  object\n",
      " 38  mint_mean_period            33644 non-null  object\n",
      " 39  swap_mean_period            33644 non-null  object\n",
      " 40  burn_mean_period            33644 non-null  object\n",
      " 41  swapIn                      33644 non-null  object\n",
      " 42  swapOut                     33644 non-null  object\n",
      " 43  token_burn_ratio            33644 non-null  object\n",
      " 44  lp_avg                      33644 non-null  object\n",
      " 45  lp_std                      33644 non-null  object\n",
      " 46  creator_holding_ratio       33644 non-null  object\n",
      " 47  lp_lock_ratio               33644 non-null  object\n",
      " 48  is_MEV                      33644 non-null  object\n",
      " 49  active_period               33644 non-null  object\n",
      " 50  rugpull_method              25801 non-null  object\n",
      " 51  rugpull_timestamp           33644 non-null  object\n",
      " 52  rugpull_timestamp_date      33644 non-null  object\n",
      " 53  before_rugpull_Eth          33644 non-null  object\n",
      " 54  after_rugpull_Eth           33644 non-null  object\n",
      " 55  rugpull_change              25801 non-null  object\n",
      " 56  rugpull_proceeding_hour     33644 non-null  object\n",
      " 57  is_rugpull                  33644 non-null  object\n",
      "dtypes: object(58)\n",
      "memory usage: 14.9+ MB\n"
     ]
    },
    {
     "name": "stderr",
     "output_type": "stream",
     "text": [
      "C:\\Users\\tyagi\\AppData\\Local\\Temp\\ipykernel_1436\\1911921901.py:1: DtypeWarning: Columns (0,3,4,5,6,7,8,9,10,14,15,19,20,24,25,29,30,31,32,33,35,36,37,38,39,40,41,42,43,44,45,46,47,48,49,51,53,54,55,57) have mixed types. Specify dtype option on import or set low_memory=False.\n",
      "  df = pd.read_csv('merged_data.csv')\n"
     ]
    }
   ],
   "source": [
    "df = pd.read_csv('merged_data.csv')\n",
    "df.info()"
   ]
  },
  {
   "cell_type": "code",
   "execution_count": 9,
   "metadata": {},
   "outputs": [],
   "source": [
    "newdf = df[['token00.id', 'token00.name', 'active_period', 'mint_count', 'burn_count', 'swap_count', 'mint_mean_period', 'burn_mean_period', 'swap_mean_period', 'token_burn_ratio', 'swapIn', 'swapOut', 'lp_avg', 'lp_std', 'creator_holding_ratio', 'lp_lock_ratio', 'is_MEV', 'is_rugpull']]"
   ]
  },
  {
   "cell_type": "code",
   "execution_count": 10,
   "metadata": {},
   "outputs": [
    {
     "name": "stdout",
     "output_type": "stream",
     "text": [
      "<class 'pandas.core.frame.DataFrame'>\n",
      "RangeIndex: 33644 entries, 0 to 33643\n",
      "Data columns (total 18 columns):\n",
      " #   Column                 Non-Null Count  Dtype \n",
      "---  ------                 --------------  ----- \n",
      " 0   token00.id             33644 non-null  object\n",
      " 1   token00.name           33633 non-null  object\n",
      " 2   active_period          33644 non-null  object\n",
      " 3   mint_count             33644 non-null  object\n",
      " 4   burn_count             33644 non-null  object\n",
      " 5   swap_count             33644 non-null  object\n",
      " 6   mint_mean_period       33644 non-null  object\n",
      " 7   burn_mean_period       33644 non-null  object\n",
      " 8   swap_mean_period       33644 non-null  object\n",
      " 9   token_burn_ratio       33644 non-null  object\n",
      " 10  swapIn                 33644 non-null  object\n",
      " 11  swapOut                33644 non-null  object\n",
      " 12  lp_avg                 33644 non-null  object\n",
      " 13  lp_std                 33644 non-null  object\n",
      " 14  creator_holding_ratio  33644 non-null  object\n",
      " 15  lp_lock_ratio          33644 non-null  object\n",
      " 16  is_MEV                 33644 non-null  object\n",
      " 17  is_rugpull             33644 non-null  object\n",
      "dtypes: object(18)\n",
      "memory usage: 4.6+ MB\n"
     ]
    }
   ],
   "source": [
    "newdf.info()"
   ]
  },
  {
   "cell_type": "code",
   "execution_count": 11,
   "metadata": {},
   "outputs": [],
   "source": [
    "newdf.to_csv(\"filtered.csv\", index=False)"
   ]
  },
  {
   "cell_type": "code",
   "execution_count": null,
   "metadata": {},
   "outputs": [],
   "source": []
  }
 ],
 "metadata": {
  "kernelspec": {
   "display_name": "Python 3",
   "language": "python",
   "name": "python3"
  },
  "language_info": {
   "codemirror_mode": {
    "name": "ipython",
    "version": 3
   },
   "file_extension": ".py",
   "mimetype": "text/x-python",
   "name": "python",
   "nbconvert_exporter": "python",
   "pygments_lexer": "ipython3",
   "version": "3.11.4"
  }
 },
 "nbformat": 4,
 "nbformat_minor": 2
}
